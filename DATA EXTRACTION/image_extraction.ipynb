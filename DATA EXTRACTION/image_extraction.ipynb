{
 "cells": [
  {
   "cell_type": "code",
   "execution_count": 1,
   "metadata": {},
   "outputs": [],
   "source": [
    "from nba_api.stats.static import teams\n",
    "from nba_api.stats.static import players\n",
    "import pandas as pd"
   ]
  },
  {
   "cell_type": "code",
   "execution_count": 2,
   "metadata": {},
   "outputs": [],
   "source": [
    "# Obtener información de los equipos\n",
    "nba_teams = teams.get_teams()\n",
    "\n",
    "# Construir una lista con nombres y URLs de los logotipos\n",
    "team_data = []\n",
    "for team in nba_teams:\n",
    "    team_name = team['full_name']\n",
    "    team_abbr = team['abbreviation']\n",
    "    # URL base para los logotipos (puedes cambiarlo según tu fuente)\n",
    "    logo_url = f\"https://cdn.nba.com/logos/nba/{team['id']}/primary/L/logo.svg\"\n",
    "    team_data.append({'Team Name': team_name, 'Abbreviation': team_abbr, 'Logo URL': logo_url})\n",
    "\n",
    "# Convertir a DataFrame\n",
    "df_teams = pd.DataFrame(team_data)\n",
    "\n",
    "\n",
    "df_teams.to_excel('../OUTPUTS/nba_teams_logos.xlsx', index=False)"
   ]
  },
  {
   "cell_type": "code",
   "execution_count": 3,
   "metadata": {},
   "outputs": [],
   "source": [
    "# Obtener todos los jugadores\n",
    "all_players = players.get_players()\n",
    "\n",
    "# Filtrar jugadores en activo\n",
    "active_players = [player for player in all_players if player['is_active']]\n",
    "\n",
    "# Generar URLs de imágenes para los jugadores\n",
    "player_data = []\n",
    "for player in active_players:\n",
    "    player_id = player['id']\n",
    "    player_name = player['full_name']\n",
    "    # Generar la URL de la imagen (puedes usar un patrón de imágenes públicas)\n",
    "    # Ejemplo basado en nba.com\n",
    "    image_url = f\"https://cdn.nba.com/headshots/nba/latest/1040x760/{player_id}.png\"\n",
    "    player_data.append({'Player Name': player_name, 'Player ID': player_id, 'Image URL': image_url})\n",
    "\n",
    "# Crear un DataFrame\n",
    "df_players = pd.DataFrame(player_data)\n",
    "\n",
    "# Guardar como CSV\n",
    "df_players.to_excel('../OUTPUTS/active_nba_players_2024_2025_pics.xlsx', index=False)"
   ]
  }
 ],
 "metadata": {
  "kernelspec": {
   "display_name": "Python 3",
   "language": "python",
   "name": "python3"
  },
  "language_info": {
   "codemirror_mode": {
    "name": "ipython",
    "version": 3
   },
   "file_extension": ".py",
   "mimetype": "text/x-python",
   "name": "python",
   "nbconvert_exporter": "python",
   "pygments_lexer": "ipython3",
   "version": "3.11.2"
  }
 },
 "nbformat": 4,
 "nbformat_minor": 2
}
