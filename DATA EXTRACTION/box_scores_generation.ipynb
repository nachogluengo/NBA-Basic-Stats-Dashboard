{
 "cells": [
  {
   "cell_type": "code",
   "execution_count": 15,
   "metadata": {},
   "outputs": [],
   "source": [
    "import pandas as pd\n",
    "from nba_api.stats.endpoints.leaguegamefinder import LeagueGameFinder\n",
    "from nba_api.stats.endpoints import PlayerGameLogs\n",
    "from nba_api.stats.static import players"
   ]
  },
  {
   "cell_type": "code",
   "execution_count": 16,
   "metadata": {},
   "outputs": [],
   "source": [
    "start_date = \"01/20/2025\"\n",
    "end_date = \"01/27/2025\"\n",
    "season = \"2024-25\""
   ]
  },
  {
   "cell_type": "code",
   "execution_count": 17,
   "metadata": {},
   "outputs": [],
   "source": [
    "# # Llamar a la API para obtener estadísticas de jugadores en ese período\n",
    "# player_stats = LeagueDashPlayerStats(\n",
    "#     season=\"2024-25\",\n",
    "#     season_type_all_star=\"Regular Season\",  # O \"Playoffs\" si buscas playoffs\n",
    "#     date_from_nullable=start_date,\n",
    "#     date_to_nullable=end_date\n",
    "# )\n",
    "\n",
    "# # Convertir los datos en un DataFrame de pandas\n",
    "# df = player_stats.get_data_frames()[0]\n",
    "\n",
    "# # Filtrar jugadores que han jugado esa semana (GP > 0)\n",
    "# df = df[df['GP'] > 0]\n",
    "\n",
    "# df\n"
   ]
  },
  {
   "cell_type": "code",
   "execution_count": 18,
   "metadata": {},
   "outputs": [],
   "source": [
    "box_scores = PlayerGameLogs(season_nullable=season).get_data_frames()[0]\n",
    "box_scores['GAME_DATE'] = pd.to_datetime(box_scores['GAME_DATE'])"
   ]
  },
  {
   "cell_type": "code",
   "execution_count": 19,
   "metadata": {},
   "outputs": [],
   "source": [
    "def get_team_records(season):\n",
    "    # Obtener todos los partidos de la temporada\n",
    "    gamefinder = LeagueGameFinder(league_id_nullable=\"00\", season_nullable=season)\n",
    "    games = gamefinder.get_data_frames()[0]\n",
    "    \n",
    "    # Convertir las fechas al formato datetime\n",
    "    games['GAME_DATE'] = pd.to_datetime(games['GAME_DATE'])\n",
    "    \n",
    "    # Filtrar los partidos hasta la fecha dada\n",
    "    filtered_games = games[games['GAME_DATE'] <= pd.to_datetime(end_date)]\n",
    "    \n",
    "    # Inicializar diccionario para almacenar victorias y derrotas de cada equipo\n",
    "    team_records = {}\n",
    "    \n",
    "    for team in filtered_games['TEAM_NAME'].unique():\n",
    "        team_games = filtered_games[filtered_games['TEAM_NAME'] == team]\n",
    "        wins = team_games[team_games['WL'] == 'W'].shape[0]\n",
    "        losses = team_games[team_games['WL'] == 'L'].shape[0]\n",
    "        team_records[team] = {'Wins': wins, 'Losses': losses}\n",
    "    \n",
    "    # Convertir a DataFrame\n",
    "    records_df = pd.DataFrame.from_dict(team_records, orient='index').reset_index()\n",
    "    records_df.columns = ['Team Name', 'Wins', 'Losses']\n",
    "    \n",
    "    return records_df"
   ]
  },
  {
   "cell_type": "code",
   "execution_count": 20,
   "metadata": {},
   "outputs": [],
   "source": [
    "team_records_df = get_team_records(season)"
   ]
  },
  {
   "cell_type": "code",
   "execution_count": 21,
   "metadata": {},
   "outputs": [],
   "source": [
    "players_ids = players.get_active_players()\n",
    "players_name_id_map = pd.DataFrame(players_ids,columns=['id','full_name','first_name'])"
   ]
  },
  {
   "cell_type": "code",
   "execution_count": 22,
   "metadata": {},
   "outputs": [],
   "source": [
    "box_scores = box_scores.drop(['NICKNAME','DD2','TD3', 'WNBA_FANTASY_PTS','NBA_FANTASY_PTS_RANK', 'DD2_RANK', 'TD3_RANK','WNBA_FANTASY_PTS_RANK'],axis=1)"
   ]
  },
  {
   "cell_type": "code",
   "execution_count": null,
   "metadata": {},
   "outputs": [],
   "source": [
    "box_scores.to_excel(\"./OUTPUT/players_box_scores.xlsx\", index=False)\n",
    "team_records_df.to_excel(\"./OUTPUT/team_records_to_date.xlsx\", index=False)\n",
    "players_name_id_map.to_excel(\"./OUTPUT/players_name_id_map.xlsx\", index=False)"
   ]
  }
 ],
 "metadata": {
  "kernelspec": {
   "display_name": "Python 3",
   "language": "python",
   "name": "python3"
  },
  "language_info": {
   "codemirror_mode": {
    "name": "ipython",
    "version": 3
   },
   "file_extension": ".py",
   "mimetype": "text/x-python",
   "name": "python",
   "nbconvert_exporter": "python",
   "pygments_lexer": "ipython3",
   "version": "3.11.2"
  }
 },
 "nbformat": 4,
 "nbformat_minor": 2
}
